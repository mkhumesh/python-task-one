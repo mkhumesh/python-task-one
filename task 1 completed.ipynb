{
 "cells": [
  {
   "cell_type": "markdown",
   "id": "d292ba6c-dbf4-4732-853f-c54907c6b0a6",
   "metadata": {},
   "source": [
    "# 1 upper case\n",
    "* converting text upper case"
   ]
  },
  {
   "cell_type": "code",
   "execution_count": 62,
   "id": "8cba231f-b8d7-41b0-89cb-148e0a529523",
   "metadata": {},
   "outputs": [],
   "source": [
    "a = \"my new bike\""
   ]
  },
  {
   "cell_type": "code",
   "execution_count": 64,
   "id": "b4dce157-85cf-4c50-8e8b-1c537305ac7e",
   "metadata": {},
   "outputs": [
    {
     "data": {
      "text/plain": [
       "'my new bike'"
      ]
     },
     "execution_count": 64,
     "metadata": {},
     "output_type": "execute_result"
    }
   ],
   "source": [
    "a"
   ]
  },
  {
   "cell_type": "code",
   "execution_count": 68,
   "id": "c4271b9f-ddf7-409c-877c-1e247a5570d7",
   "metadata": {},
   "outputs": [],
   "source": [
    "A1 = a.upper()"
   ]
  },
  {
   "cell_type": "code",
   "execution_count": 70,
   "id": "56a7f5a1-e632-40f2-8264-a0c49ed2f863",
   "metadata": {},
   "outputs": [
    {
     "name": "stdout",
     "output_type": "stream",
     "text": [
      "MY NEW BIKE\n"
     ]
    }
   ],
   "source": [
    "print(A1)"
   ]
  },
  {
   "cell_type": "code",
   "execution_count": null,
   "id": "f4648131-bab3-4e5f-9886-e0d154291440",
   "metadata": {},
   "outputs": [],
   "source": []
  },
  {
   "cell_type": "markdown",
   "id": "1c465da5-953a-42e3-8dec-6563410275af",
   "metadata": {},
   "source": [
    "# 2 lower case\n",
    "* converting text lower case"
   ]
  },
  {
   "cell_type": "code",
   "execution_count": 74,
   "id": "7573dd1f-52ed-4b11-8839-b3931d2a9964",
   "metadata": {},
   "outputs": [],
   "source": [
    "S = 'DATA FOR COMPANY'"
   ]
  },
  {
   "cell_type": "code",
   "execution_count": 76,
   "id": "4ec835c0-d066-4010-b89b-f2a0d2db24db",
   "metadata": {},
   "outputs": [
    {
     "data": {
      "text/plain": [
       "'DATA FOR COMPANY'"
      ]
     },
     "execution_count": 76,
     "metadata": {},
     "output_type": "execute_result"
    }
   ],
   "source": [
    "S"
   ]
  },
  {
   "cell_type": "code",
   "execution_count": 82,
   "id": "d241e943-6bf5-4070-9a37-5e49e316ad48",
   "metadata": {},
   "outputs": [],
   "source": [
    "S1 = S.lower()"
   ]
  },
  {
   "cell_type": "code",
   "execution_count": 84,
   "id": "73be8e15-a01b-487f-9f32-3d0fd43486e7",
   "metadata": {},
   "outputs": [
    {
     "name": "stdout",
     "output_type": "stream",
     "text": [
      "data for company\n"
     ]
    }
   ],
   "source": [
    "print(S1)"
   ]
  },
  {
   "cell_type": "code",
   "execution_count": null,
   "id": "3f823a1d-0784-42ef-b927-1ab7422a5511",
   "metadata": {},
   "outputs": [],
   "source": []
  },
  {
   "cell_type": "markdown",
   "id": "28793f31-8828-416d-a25a-7f7e96b7243c",
   "metadata": {},
   "source": [
    "# 3 CAPITALIZE\n",
    "* convert frist character to uppercase"
   ]
  },
  {
   "cell_type": "code",
   "execution_count": 34,
   "id": "5c01693e-7fa9-4b9c-83c5-7d9b9fd655da",
   "metadata": {},
   "outputs": [],
   "source": [
    "T1 = \"new car\""
   ]
  },
  {
   "cell_type": "code",
   "execution_count": 56,
   "id": "3d57d5ad-c3a2-4cea-9d4a-8527ccf12e94",
   "metadata": {},
   "outputs": [
    {
     "data": {
      "text/plain": [
       "'new car'"
      ]
     },
     "execution_count": 56,
     "metadata": {},
     "output_type": "execute_result"
    }
   ],
   "source": [
    "T1"
   ]
  },
  {
   "cell_type": "code",
   "execution_count": 52,
   "id": "9876ad5c-22da-4a28-a50e-e34ef1006f2b",
   "metadata": {},
   "outputs": [],
   "source": [
    "A = T1.capitalize()"
   ]
  },
  {
   "cell_type": "code",
   "execution_count": 54,
   "id": "c8336bdd-12b5-46de-b198-2cc658a079d1",
   "metadata": {},
   "outputs": [
    {
     "name": "stdout",
     "output_type": "stream",
     "text": [
      "New car\n"
     ]
    }
   ],
   "source": [
    "print(A)"
   ]
  },
  {
   "cell_type": "code",
   "execution_count": null,
   "id": "50143ef4-01c0-4407-9572-ab8b2eadb0ea",
   "metadata": {},
   "outputs": [],
   "source": []
  },
  {
   "cell_type": "markdown",
   "id": "dcc2ca7c-65c7-4f12-906d-9f648ddf3a60",
   "metadata": {},
   "source": [
    "# 4 casefold\n",
    "*convert frist character to lowercase\n"
   ]
  },
  {
   "cell_type": "code",
   "execution_count": 86,
   "id": "4cf1d9aa-17f5-433a-abef-f3df1d8eae6e",
   "metadata": {},
   "outputs": [],
   "source": [
    "A = 'As work now'"
   ]
  },
  {
   "cell_type": "code",
   "execution_count": 88,
   "id": "89fa47d0-1412-4585-a8c6-097c677eab6d",
   "metadata": {},
   "outputs": [
    {
     "data": {
      "text/plain": [
       "'As work now'"
      ]
     },
     "execution_count": 88,
     "metadata": {},
     "output_type": "execute_result"
    }
   ],
   "source": [
    "A"
   ]
  },
  {
   "cell_type": "code",
   "execution_count": 98,
   "id": "aa2042e6-e8f3-412e-99c1-ef7d03fff35b",
   "metadata": {},
   "outputs": [
    {
     "name": "stdout",
     "output_type": "stream",
     "text": [
      "as work now\n"
     ]
    }
   ],
   "source": [
    "print( A.casefold())"
   ]
  },
  {
   "cell_type": "code",
   "execution_count": null,
   "id": "b4e0891c-38e7-4b99-87c1-fb379e55e157",
   "metadata": {},
   "outputs": [],
   "source": []
  },
  {
   "cell_type": "markdown",
   "id": "c16cecb3-90ce-43f3-9e82-5f3d8c546152",
   "metadata": {},
   "source": [
    "# 5 count\n",
    "* sentence is available\n",
    "  "
   ]
  },
  {
   "cell_type": "code",
   "execution_count": 105,
   "id": "63ef06da-0b80-4d3d-951c-4ae27321ae2b",
   "metadata": {},
   "outputs": [],
   "source": [
    "A1 = 'my fav bike'"
   ]
  },
  {
   "cell_type": "code",
   "execution_count": 107,
   "id": "1ad00340-cf25-4768-af62-4815dc306870",
   "metadata": {},
   "outputs": [
    {
     "data": {
      "text/plain": [
       "'my fav bike'"
      ]
     },
     "execution_count": 107,
     "metadata": {},
     "output_type": "execute_result"
    }
   ],
   "source": [
    "A1"
   ]
  },
  {
   "cell_type": "code",
   "execution_count": 143,
   "id": "f6b856ec-aa9b-4e39-a293-5ba249a3b5ab",
   "metadata": {},
   "outputs": [
    {
     "name": "stdout",
     "output_type": "stream",
     "text": [
      "1\n"
     ]
    }
   ],
   "source": [
    "print(A1.count(\"my fav bike\"))"
   ]
  },
  {
   "cell_type": "code",
   "execution_count": null,
   "id": "7ffbe215-6f55-4d06-b504-80d3a6cccacf",
   "metadata": {},
   "outputs": [],
   "source": []
  },
  {
   "cell_type": "markdown",
   "id": "61e5d4b1-c13d-4e7d-a772-0700ac3b1ca3",
   "metadata": {},
   "source": [
    "# 6  join \n",
    "* sentence join"
   ]
  },
  {
   "cell_type": "code",
   "execution_count": 169,
   "id": "78ef6f2c-ecb8-48f9-ab42-5bebd7edb3da",
   "metadata": {},
   "outputs": [],
   "source": [
    "A2 = (\"car\",\"meter\",\"driver\")"
   ]
  },
  {
   "cell_type": "code",
   "execution_count": 175,
   "id": "d07874a6-ee5a-43c9-b9cc-b6ac777c9782",
   "metadata": {},
   "outputs": [
    {
     "name": "stdout",
     "output_type": "stream",
     "text": [
      "car meter driver\n"
     ]
    }
   ],
   "source": [
    "print( \" \".join(A2))"
   ]
  },
  {
   "cell_type": "code",
   "execution_count": null,
   "id": "d15a28c2-3181-4cd5-aa2e-c3f3f35dd11d",
   "metadata": {},
   "outputs": [],
   "source": []
  },
  {
   "cell_type": "markdown",
   "id": "c06b80c0-8ca8-49d4-9b4c-40816f809ee5",
   "metadata": {},
   "source": [
    "# 7 sort"
   ]
  },
  {
   "cell_type": "code",
   "execution_count": 213,
   "id": "0b8b7803-ca4a-43b4-b7c2-8a92c0a69993",
   "metadata": {},
   "outputs": [],
   "source": [
    "A3 = ['car','meter','driver']"
   ]
  },
  {
   "cell_type": "code",
   "execution_count": 233,
   "id": "a263a7fe-6385-47f2-a87c-4a3045e2c663",
   "metadata": {},
   "outputs": [
    {
     "data": {
      "text/plain": [
       "['car', 'driver', 'meter']"
      ]
     },
     "execution_count": 233,
     "metadata": {},
     "output_type": "execute_result"
    }
   ],
   "source": [
    "A3"
   ]
  },
  {
   "cell_type": "code",
   "execution_count": 229,
   "id": "63a0ee13-a13f-44f3-9ece-6bbb48d61244",
   "metadata": {},
   "outputs": [],
   "source": [
    "A3.sort()"
   ]
  },
  {
   "cell_type": "code",
   "execution_count": 231,
   "id": "e7f91efc-bbd5-4033-bddd-d4ac5f9df387",
   "metadata": {},
   "outputs": [
    {
     "name": "stdout",
     "output_type": "stream",
     "text": [
      "['car', 'driver', 'meter']\n"
     ]
    }
   ],
   "source": [
    "print(A3)"
   ]
  },
  {
   "cell_type": "code",
   "execution_count": null,
   "id": "224389b9-efd7-4202-a932-43d1085fbe7e",
   "metadata": {},
   "outputs": [],
   "source": []
  },
  {
   "cell_type": "markdown",
   "id": "16044453-5526-4c36-b368-f52311345ac3",
   "metadata": {},
   "source": [
    "# 8  reverse"
   ]
  },
  {
   "cell_type": "code",
   "execution_count": 238,
   "id": "4258f3e3-0157-4457-bc5a-069d54d04b41",
   "metadata": {},
   "outputs": [],
   "source": [
    "A4 = ['car','meter','driver']"
   ]
  },
  {
   "cell_type": "code",
   "execution_count": 240,
   "id": "6488a389-3395-42c7-a80f-71fbfdb7266b",
   "metadata": {},
   "outputs": [
    {
     "data": {
      "text/plain": [
       "['car', 'meter', 'driver']"
      ]
     },
     "execution_count": 240,
     "metadata": {},
     "output_type": "execute_result"
    }
   ],
   "source": [
    "A4"
   ]
  },
  {
   "cell_type": "code",
   "execution_count": 242,
   "id": "ea49beba-dccc-44e1-bc9d-69b610bc2126",
   "metadata": {},
   "outputs": [],
   "source": [
    "A4.reverse()"
   ]
  },
  {
   "cell_type": "code",
   "execution_count": 244,
   "id": "c58a1602-7426-4d8a-8247-2d83ae411426",
   "metadata": {},
   "outputs": [
    {
     "name": "stdout",
     "output_type": "stream",
     "text": [
      "['driver', 'meter', 'car']\n"
     ]
    }
   ],
   "source": [
    "print(A4)"
   ]
  },
  {
   "cell_type": "code",
   "execution_count": null,
   "id": "07abf44f-e3db-467c-8e8b-10ed17c5ce11",
   "metadata": {},
   "outputs": [],
   "source": []
  },
  {
   "cell_type": "markdown",
   "id": "57802026-64ca-4ab1-a196-884a731cf0ee",
   "metadata": {},
   "source": [
    "# 9 pop"
   ]
  },
  {
   "cell_type": "code",
   "execution_count": 285,
   "id": "5231cf04-1e5a-46d6-9b7f-329bfd7d1989",
   "metadata": {},
   "outputs": [],
   "source": [
    "A5 = ['a','b','c']"
   ]
  },
  {
   "cell_type": "code",
   "execution_count": 249,
   "id": "e8d0cb37-39d6-4227-a553-c63b409d285b",
   "metadata": {},
   "outputs": [
    {
     "data": {
      "text/plain": [
       "['a', 'b', 'c']"
      ]
     },
     "execution_count": 249,
     "metadata": {},
     "output_type": "execute_result"
    }
   ],
   "source": [
    "A5"
   ]
  },
  {
   "cell_type": "code",
   "execution_count": 289,
   "id": "8e7ded95-0376-423b-9d29-c51e6e519e83",
   "metadata": {},
   "outputs": [
    {
     "data": {
      "text/plain": [
       "'a'"
      ]
     },
     "execution_count": 289,
     "metadata": {},
     "output_type": "execute_result"
    }
   ],
   "source": [
    "A5.pop(0)"
   ]
  },
  {
   "cell_type": "code",
   "execution_count": 291,
   "id": "321c350a-fbbc-47ca-8a00-ece880f09fa2",
   "metadata": {},
   "outputs": [
    {
     "name": "stdout",
     "output_type": "stream",
     "text": [
      "['b', 'c']\n"
     ]
    }
   ],
   "source": [
    "print(A5)"
   ]
  },
  {
   "cell_type": "code",
   "execution_count": null,
   "id": "12a9bbc3-93c1-4ff8-b4c2-fb97415e2378",
   "metadata": {},
   "outputs": [],
   "source": []
  },
  {
   "cell_type": "markdown",
   "id": "d871c8ca-9ca8-413b-b596-00d04a745c13",
   "metadata": {},
   "source": [
    "# 10 find"
   ]
  },
  {
   "cell_type": "code",
   "execution_count": 324,
   "id": "e3505150-d73d-44a5-a9af-ba42b48d8ede",
   "metadata": {},
   "outputs": [],
   "source": [
    "A6 = 'tuple object has no attribute find'"
   ]
  },
  {
   "cell_type": "code",
   "execution_count": 342,
   "id": "5c5a9f63-d140-499a-a9b1-c0c58a20e71b",
   "metadata": {},
   "outputs": [
    {
     "name": "stdout",
     "output_type": "stream",
     "text": [
      "17\n"
     ]
    }
   ],
   "source": [
    "print(A6.find('no'))"
   ]
  },
  {
   "cell_type": "code",
   "execution_count": null,
   "id": "31b97dbd-9e52-4ad4-9cda-b29628a4ccb6",
   "metadata": {},
   "outputs": [],
   "source": []
  },
  {
   "cell_type": "code",
   "execution_count": 345,
   "id": "7fe38e18-4c09-4963-8b27-a8355bd8ca77",
   "metadata": {},
   "outputs": [],
   "source": [
    "A7 ='tuple object has no attribute find'"
   ]
  },
  {
   "cell_type": "code",
   "execution_count": 347,
   "id": "e0b6dbf6-f2ed-4df7-be0b-1c83d2ff62a4",
   "metadata": {},
   "outputs": [
    {
     "name": "stdout",
     "output_type": "stream",
     "text": [
      "17\n"
     ]
    }
   ],
   "source": [
    "print(A7.rfind('no'))"
   ]
  },
  {
   "cell_type": "markdown",
   "id": "9f55415f-5766-436b-94fd-282b3220ed06",
   "metadata": {},
   "source": [
    "# 11 partition"
   ]
  },
  {
   "cell_type": "code",
   "execution_count": 350,
   "id": "f6329fe6-898c-41d1-9aad-95fb7898740b",
   "metadata": {},
   "outputs": [],
   "source": [
    "A8 ='tuple object has no attribute find'"
   ]
  },
  {
   "cell_type": "code",
   "execution_count": 352,
   "id": "5e6638f6-f7df-472c-a894-5fae37582342",
   "metadata": {},
   "outputs": [
    {
     "name": "stdout",
     "output_type": "stream",
     "text": [
      "('tuple object has ', 'no', ' attribute find')\n"
     ]
    }
   ],
   "source": [
    "print(A7.partition('no'))"
   ]
  },
  {
   "cell_type": "code",
   "execution_count": null,
   "id": "43d7e7cb-65a2-4337-9132-287fc95bc577",
   "metadata": {},
   "outputs": [],
   "source": []
  },
  {
   "cell_type": "markdown",
   "id": "f0b4496c-c95d-414d-9702-38630aed2ddd",
   "metadata": {},
   "source": [
    " # 12 isascii"
   ]
  },
  {
   "cell_type": "code",
   "execution_count": 433,
   "id": "0cd0061d-d4b7-4709-b8d4-989e2dbd6a76",
   "metadata": {},
   "outputs": [],
   "source": [
    "A9 = 'duniya'"
   ]
  },
  {
   "cell_type": "code",
   "execution_count": 435,
   "id": "03f944fb-deae-4b2c-b456-bc205b62111f",
   "metadata": {},
   "outputs": [
    {
     "data": {
      "text/plain": [
       "'duniya'"
      ]
     },
     "execution_count": 435,
     "metadata": {},
     "output_type": "execute_result"
    }
   ],
   "source": [
    "A9"
   ]
  },
  {
   "cell_type": "code",
   "execution_count": 437,
   "id": "92e49e56-5040-4ebb-9260-ace6a1f44091",
   "metadata": {},
   "outputs": [
    {
     "name": "stdout",
     "output_type": "stream",
     "text": [
      "True\n"
     ]
    }
   ],
   "source": [
    "print(A7.isascii())"
   ]
  },
  {
   "cell_type": "code",
   "execution_count": 445,
   "id": "d48685a6-867e-433a-a936-ae2477a68fee",
   "metadata": {},
   "outputs": [],
   "source": [
    "A10 = \"1234567\""
   ]
  },
  {
   "cell_type": "code",
   "execution_count": 447,
   "id": "ffc59ed9-8096-4a8a-ab12-257aa812bd28",
   "metadata": {},
   "outputs": [
    {
     "data": {
      "text/plain": [
       "'1234567'"
      ]
     },
     "execution_count": 447,
     "metadata": {},
     "output_type": "execute_result"
    }
   ],
   "source": [
    "A10"
   ]
  },
  {
   "cell_type": "code",
   "execution_count": 449,
   "id": "7ba071c8-e9f2-4199-bd19-a5b08d8996ee",
   "metadata": {},
   "outputs": [
    {
     "name": "stdout",
     "output_type": "stream",
     "text": [
      "True\n"
     ]
    }
   ],
   "source": [
    "print(A7.isascii())"
   ]
  },
  {
   "cell_type": "markdown",
   "id": "246f66ac-8ef2-4f87-acc7-188ffd60b10b",
   "metadata": {},
   "source": [
    "# 13 isdecimal"
   ]
  },
  {
   "cell_type": "code",
   "execution_count": 458,
   "id": "178b05c7-58e8-4b1a-83a6-936cc4f79842",
   "metadata": {},
   "outputs": [],
   "source": [
    "A11 = \"new version\""
   ]
  },
  {
   "cell_type": "code",
   "execution_count": 460,
   "id": "fa1d2de3-97e4-4ded-a3f3-3c1d971b11a5",
   "metadata": {},
   "outputs": [
    {
     "data": {
      "text/plain": [
       "'new version'"
      ]
     },
     "execution_count": 460,
     "metadata": {},
     "output_type": "execute_result"
    }
   ],
   "source": [
    "A11"
   ]
  },
  {
   "cell_type": "code",
   "execution_count": 462,
   "id": "9dbd1ad5-2aae-437f-82d5-ace93feae788",
   "metadata": {},
   "outputs": [
    {
     "name": "stdout",
     "output_type": "stream",
     "text": [
      "False\n"
     ]
    }
   ],
   "source": [
    "print(A11.isdecimal())"
   ]
  },
  {
   "cell_type": "code",
   "execution_count": 466,
   "id": "c74ed133-9726-4f4c-9e02-6c382760db4e",
   "metadata": {},
   "outputs": [],
   "source": [
    "A12 = \"6876876453\""
   ]
  },
  {
   "cell_type": "code",
   "execution_count": 468,
   "id": "3fc09fe0-78ad-49ab-abfc-b4f86ea21233",
   "metadata": {},
   "outputs": [
    {
     "data": {
      "text/plain": [
       "'6876876453'"
      ]
     },
     "execution_count": 468,
     "metadata": {},
     "output_type": "execute_result"
    }
   ],
   "source": [
    "A12"
   ]
  },
  {
   "cell_type": "code",
   "execution_count": 470,
   "id": "d0f26b07-ec33-4bae-b54c-02a864847652",
   "metadata": {},
   "outputs": [
    {
     "name": "stdout",
     "output_type": "stream",
     "text": [
      "True\n"
     ]
    }
   ],
   "source": [
    "print(A12.isdecimal())"
   ]
  },
  {
   "cell_type": "code",
   "execution_count": null,
   "id": "57990920-68ac-47e9-aa95-ea3cea5682fa",
   "metadata": {},
   "outputs": [],
   "source": []
  },
  {
   "cell_type": "markdown",
   "id": "8808aeb8-428f-4a3e-9ab1-5a3c2d8455ca",
   "metadata": {},
   "source": [
    "# 14 endwith"
   ]
  },
  {
   "cell_type": "code",
   "execution_count": 473,
   "id": "cacc2b74-b772-4a7b-88be-7405508b7a4f",
   "metadata": {},
   "outputs": [],
   "source": [
    "A13 = 'my new car drive in road.'"
   ]
  },
  {
   "cell_type": "code",
   "execution_count": 475,
   "id": "d4021905-e400-4306-9fe6-ca328987378c",
   "metadata": {},
   "outputs": [
    {
     "data": {
      "text/plain": [
       "'my new car drive in road.'"
      ]
     },
     "execution_count": 475,
     "metadata": {},
     "output_type": "execute_result"
    }
   ],
   "source": [
    "A13"
   ]
  },
  {
   "cell_type": "code",
   "execution_count": 483,
   "id": "dc55a2a6-6eb0-4d98-be97-8eae288d2cde",
   "metadata": {},
   "outputs": [
    {
     "name": "stdout",
     "output_type": "stream",
     "text": [
      "True\n"
     ]
    }
   ],
   "source": [
    "print(A13.endswith('road.'))\n"
   ]
  },
  {
   "cell_type": "code",
   "execution_count": 485,
   "id": "2bdd587e-b39c-462a-8157-8f9fbea6e08c",
   "metadata": {},
   "outputs": [
    {
     "name": "stdout",
     "output_type": "stream",
     "text": [
      "False\n"
     ]
    }
   ],
   "source": [
    "print(A13.endswith('road'))"
   ]
  },
  {
   "cell_type": "code",
   "execution_count": null,
   "id": "d2c1767d-11ce-4177-a2a4-90a7966f4d7f",
   "metadata": {},
   "outputs": [],
   "source": []
  },
  {
   "cell_type": "markdown",
   "id": "f2f0b33d-cb41-45d8-81d0-7572a2bae07d",
   "metadata": {},
   "source": [
    "# 15 numeric"
   ]
  },
  {
   "cell_type": "code",
   "execution_count": 497,
   "id": "7ebe6601-35df-4350-acb1-85651d1576b3",
   "metadata": {},
   "outputs": [],
   "source": [
    "A14 = 'my new car drive in road at everday.'"
   ]
  },
  {
   "cell_type": "code",
   "execution_count": 499,
   "id": "737f093b-3844-4cbf-b81b-c983170e8acc",
   "metadata": {},
   "outputs": [
    {
     "data": {
      "text/plain": [
       "'my new car drive in road at everday.'"
      ]
     },
     "execution_count": 499,
     "metadata": {},
     "output_type": "execute_result"
    }
   ],
   "source": [
    "A14"
   ]
  },
  {
   "cell_type": "code",
   "execution_count": 505,
   "id": "228d9345-b8f1-42e4-b5ba-66b34b91151b",
   "metadata": {},
   "outputs": [
    {
     "name": "stdout",
     "output_type": "stream",
     "text": [
      "False\n"
     ]
    }
   ],
   "source": [
    "print(A14.isnumeric())"
   ]
  },
  {
   "cell_type": "code",
   "execution_count": 507,
   "id": "500ad4df-3668-44b0-91ea-d9ca5d0302fd",
   "metadata": {},
   "outputs": [],
   "source": [
    "A15 = \"354766878\""
   ]
  },
  {
   "cell_type": "code",
   "execution_count": 509,
   "id": "112b453e-0799-4aaa-948b-8949b347df49",
   "metadata": {},
   "outputs": [
    {
     "data": {
      "text/plain": [
       "'354766878'"
      ]
     },
     "execution_count": 509,
     "metadata": {},
     "output_type": "execute_result"
    }
   ],
   "source": [
    "A15"
   ]
  },
  {
   "cell_type": "code",
   "execution_count": 511,
   "id": "31af5dc2-75cf-44b4-9a7b-3c354fd2c5d5",
   "metadata": {},
   "outputs": [
    {
     "name": "stdout",
     "output_type": "stream",
     "text": [
      "False\n"
     ]
    }
   ],
   "source": [
    "print(A14.isnumeric())"
   ]
  },
  {
   "cell_type": "code",
   "execution_count": null,
   "id": "06d6701c-e939-4294-af28-fb11ab06c1e6",
   "metadata": {},
   "outputs": [],
   "source": []
  }
 ],
 "metadata": {
  "kernelspec": {
   "display_name": "Python 3 (ipykernel)",
   "language": "python",
   "name": "python3"
  },
  "language_info": {
   "codemirror_mode": {
    "name": "ipython",
    "version": 3
   },
   "file_extension": ".py",
   "mimetype": "text/x-python",
   "name": "python",
   "nbconvert_exporter": "python",
   "pygments_lexer": "ipython3",
   "version": "3.12.4"
  }
 },
 "nbformat": 4,
 "nbformat_minor": 5
}
